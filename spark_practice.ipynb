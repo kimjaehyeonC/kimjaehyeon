{
 "cells": [
  {
   "cell_type": "code",
   "execution_count": 6,
   "metadata": {},
   "outputs": [],
   "source": [
    "from pyspark.sql.types import *\n",
    "from pyspark.sql import SparkSession"
   ]
  },
  {
   "cell_type": "code",
   "execution_count": 12,
   "metadata": {},
   "outputs": [],
   "source": [
    "path = './LearningSparkV2/databricks-datasets/learning-spark-v2/sf-fire/sf-fire-calls.csv'\n",
    "parquetpath = './'\n"
   ]
  },
  {
   "cell_type": "code",
   "execution_count": 8,
   "metadata": {},
   "outputs": [],
   "source": [
    "spark = (SparkSession.builder.appName('practice').getOrCreate())"
   ]
  },
  {
   "cell_type": "code",
   "execution_count": 9,
   "metadata": {},
   "outputs": [],
   "source": [
    "fire_schema = StructType([StructField('CallNumber', IntegerType(), True),\n",
    "                          StructField('UnitID', StringType(), True),\n",
    "                          StructField('IncidentNumber', IntegerType(), True),\n",
    "                          StructField('CallType', StringType(), True)])\n",
    "\n",
    "fire_df = spark.read.csv(path, header = True, schema = fire_schema)"
   ]
  },
  {
   "cell_type": "code",
   "execution_count": 11,
   "metadata": {},
   "outputs": [
    {
     "name": "stderr",
     "output_type": "stream",
     "text": [
      "24/11/13 17:41:53 WARN CSVHeaderChecker: Number of column in CSV header is not equal to number of fields in the schema:\n",
      " Header length: 28, schema size: 4\n",
      "CSV file: file:///home/horyang0221/vscode/github/kimjaehyeon/LearningSparkV2/databricks-datasets/learning-spark-v2/sf-fire/sf-fire-calls.csv\n",
      "                                                                                \r"
     ]
    },
    {
     "name": "stdout",
     "output_type": "stream",
     "text": [
      "+----------+------+--------------+----------------+\n",
      "|CallNumber|UnitID|IncidentNumber|        CallType|\n",
      "+----------+------+--------------+----------------+\n",
      "|  20110016|   T13|       2003235|  Structure Fire|\n",
      "|  20110022|   M17|       2003241|Medical Incident|\n",
      "|  20110023|   M41|       2003242|Medical Incident|\n",
      "|  20110032|   E11|       2003250|    Vehicle Fire|\n",
      "|  20110043|   B04|       2003259|          Alarms|\n",
      "|  20110072|   T08|       2003279|  Structure Fire|\n",
      "|  20110125|   E33|       2003301|          Alarms|\n",
      "|  20110130|   E36|       2003304|          Alarms|\n",
      "|  20110197|   E05|       2003343|Medical Incident|\n",
      "|  20110215|   E06|       2003348|Medical Incident|\n",
      "|  20110274|   M07|       2003381|Medical Incident|\n",
      "|  20110275|   T15|       2003382|  Structure Fire|\n",
      "|  20110304|   E03|       2003399|Medical Incident|\n",
      "|  20110308|   E14|       2003403|Medical Incident|\n",
      "|  20110313|   B10|       2003408|  Structure Fire|\n",
      "|  20110313|    D3|       2003408|  Structure Fire|\n",
      "|  20110313|   E32|       2003408|  Structure Fire|\n",
      "|  20110315|   RC2|       2003409|Medical Incident|\n",
      "|  20110330|   E14|       2003417|Medical Incident|\n",
      "|  20110330|   M12|       2003417|Medical Incident|\n",
      "+----------+------+--------------+----------------+\n",
      "only showing top 20 rows\n",
      "\n"
     ]
    }
   ],
   "source": [
    "fire_df.show()"
   ]
  },
  {
   "cell_type": "code",
   "execution_count": 16,
   "metadata": {},
   "outputs": [
    {
     "name": "stderr",
     "output_type": "stream",
     "text": [
      "24/11/13 17:57:26 WARN MemoryManager: Total allocation exceeds 95.00% (1,020,054,720 bytes) of heap memory\n",
      "Scaling row group sizes to 95.00% for 8 writers\n",
      "24/11/13 17:57:26 WARN CSVHeaderChecker: Number of column in CSV header is not equal to number of fields in the schema:\n",
      " Header length: 28, schema size: 4\n",
      "CSV file: file:///home/horyang0221/vscode/github/kimjaehyeon/LearningSparkV2/databricks-datasets/learning-spark-v2/sf-fire/sf-fire-calls.csv\n",
      "                                                                                \r"
     ]
    }
   ],
   "source": [
    "fire_df.write.format('parquet').save('./save_practice')"
   ]
  }
 ],
 "metadata": {
  "kernelspec": {
   "display_name": "base",
   "language": "python",
   "name": "python3"
  },
  "language_info": {
   "codemirror_mode": {
    "name": "ipython",
    "version": 3
   },
   "file_extension": ".py",
   "mimetype": "text/x-python",
   "name": "python",
   "nbconvert_exporter": "python",
   "pygments_lexer": "ipython3",
   "version": "3.12.7"
  }
 },
 "nbformat": 4,
 "nbformat_minor": 2
}
